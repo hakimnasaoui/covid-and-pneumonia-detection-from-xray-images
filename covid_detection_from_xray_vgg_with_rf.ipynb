{
  "nbformat": 4,
  "nbformat_minor": 0,
  "metadata": {
    "colab": {
      "name": "covid detection from xray - vgg with rf.ipynb",
      "provenance": [],
      "toc_visible": true
    },
    "kernelspec": {
      "name": "python3",
      "display_name": "Python 3"
    }
  },
  "cells": [
    {
      "cell_type": "code",
      "metadata": {
        "id": "uAn0sNrSftVM",
        "colab_type": "code",
        "colab": {
          "base_uri": "https://localhost:8080/",
          "height": 122
        },
        "outputId": "cac2849a-59f5-4568-dbc2-1562e3b51ca1"
      },
      "source": [
        "from google.colab import drive\n",
        "drive.mount('/content/drive')"
      ],
      "execution_count": null,
      "outputs": [
        {
          "output_type": "stream",
          "text": [
            "Go to this URL in a browser: https://accounts.google.com/o/oauth2/auth?client_id=947318989803-6bn6qk8qdgf4n4g3pfee6491hc0brc4i.apps.googleusercontent.com&redirect_uri=urn%3aietf%3awg%3aoauth%3a2.0%3aoob&response_type=code&scope=email%20https%3a%2f%2fwww.googleapis.com%2fauth%2fdocs.test%20https%3a%2f%2fwww.googleapis.com%2fauth%2fdrive%20https%3a%2f%2fwww.googleapis.com%2fauth%2fdrive.photos.readonly%20https%3a%2f%2fwww.googleapis.com%2fauth%2fpeopleapi.readonly\n",
            "\n",
            "Enter your authorization code:\n",
            "··········\n",
            "Mounted at /content/drive\n"
          ],
          "name": "stdout"
        }
      ]
    },
    {
      "cell_type": "code",
      "metadata": {
        "id": "md7lxI3zwkZQ",
        "colab_type": "code",
        "colab": {
          "base_uri": "https://localhost:8080/",
          "height": 153
        },
        "outputId": "86bf03a3-e38a-4fdf-9778-b6d5872f61a7"
      },
      "source": [
        "!git clone https://github.com/ieee8023/covid-chestxray-dataset.git"
      ],
      "execution_count": null,
      "outputs": [
        {
          "output_type": "stream",
          "text": [
            "Cloning into 'covid-chestxray-dataset'...\n",
            "remote: Enumerating objects: 80, done.\u001b[K\n",
            "remote: Counting objects: 100% (80/80), done.\u001b[K\n",
            "remote: Compressing objects: 100% (63/63), done.\u001b[K\n",
            "remote: Total 3213 (delta 35), reused 48 (delta 17), pack-reused 3133\u001b[K\n",
            "Receiving objects: 100% (3213/3213), 582.58 MiB | 40.14 MiB/s, done.\n",
            "Resolving deltas: 100% (1271/1271), done.\n",
            "Checking out files: 100% (991/991), done.\n"
          ],
          "name": "stdout"
        }
      ]
    },
    {
      "cell_type": "code",
      "metadata": {
        "id": "DVIQ9XOvhJBs",
        "colab_type": "code",
        "colab": {}
      },
      "source": [
        "!mkdir -p /content/dataset/covid/\n",
        "!mkdir -p /content/dataset/normal/\n",
        "!mkdir -p /content/dataset/pneumonia/"
      ],
      "execution_count": null,
      "outputs": []
    },
    {
      "cell_type": "code",
      "metadata": {
        "id": "L3zw1J2Tfu-3",
        "colab_type": "code",
        "colab": {}
      },
      "source": [
        "!unzip \"/content/drive/My Drive/Datasets/Chest X-Ray Images (Pneumonia).zip\""
      ],
      "execution_count": null,
      "outputs": []
    },
    {
      "cell_type": "code",
      "metadata": {
        "id": "_1TFUOFWjEJV",
        "colab_type": "code",
        "colab": {}
      },
      "source": [
        "!mv /content/chest_xray/train/NORMAL/* /content/dataset/normal/\n",
        "!mv /content/chest_xray/train/PNEUMONIA/* /content/dataset/pneumonia/\n",
        "!mv /content/chest_xray/val/NORMAL/* /content/dataset/normal/\n",
        "!mv /content/chest_xray/val/PNEUMONIA/* /content/dataset/pneumonia/\n",
        "!mv /content/chest_xray/test/NORMAL/* /content/dataset/normal/\n",
        "!mv /content/chest_xray/test/PNEUMONIA/* /content/dataset/pneumonia/"
      ],
      "execution_count": null,
      "outputs": []
    },
    {
      "cell_type": "code",
      "metadata": {
        "id": "2btZNDkOpf-a",
        "colab_type": "code",
        "colab": {}
      },
      "source": [
        "import pandas as pd\n",
        "import shutil\n",
        "import os\n",
        "\n",
        "# Selecting all combination of 'COVID-19' patients with 'PA' X-Ray view\n",
        "virus = \"COVID-19\" # Virus to look for\n",
        "x_ray_view = \"PA\" # View of X-Ray\n",
        "\n",
        "meta_data = \"/content/covid-chestxray-dataset/metadata.csv\"\n",
        "images_dir = \"/content/covid-chestxray-dataset/images\"\n",
        "output_dir = \"/content/dataset/covid/\"\n",
        "\n",
        "metadata_csv = pd.read_csv(meta_data)\n",
        "\n",
        "for (i, row) in metadata_csv.iterrows():\n",
        "\tif row[\"finding\"] != virus or row[\"view\"] != x_ray_view:\n",
        "\t\tcontinue\n",
        "\n",
        "\tfilename = row[\"filename\"].split(os.path.sep)[-1]\n",
        "\tfilePath = os.path.sep.join([images_dir, filename])\n",
        "\tshutil.copy2(filePath, output_dir)"
      ],
      "execution_count": null,
      "outputs": []
    },
    {
      "cell_type": "markdown",
      "metadata": {
        "id": "UFb1HvjY0EQb",
        "colab_type": "text"
      },
      "source": [
        "  ## Pre-processing "
      ]
    },
    {
      "cell_type": "code",
      "metadata": {
        "id": "dXP9nyy9wnGF",
        "colab_type": "code",
        "colab": {
          "base_uri": "https://localhost:8080/",
          "height": 34
        },
        "outputId": "94ff532d-67ca-4daa-865f-670c69ddecbc"
      },
      "source": [
        "from keras import backend as K\n",
        "from keras.preprocessing.image import ImageDataGenerator,load_img, img_to_array\n",
        "from keras.models import Sequential, Model\n",
        "from keras.layers import Conv2D, MaxPooling2D,GlobalAveragePooling2D\n",
        "from keras.layers import Input, average, Average\n",
        "from keras.layers import Activation, Dropout, BatchNormalization, Flatten, Dense\n",
        "\n",
        "from keras.models import Sequential, Model\n",
        "from keras.applications.xception import Xception\n",
        "from keras.applications.resnet50 import ResNet50\n",
        "from keras.applications import ResNet101\n",
        "from keras.applications import DenseNet201\n",
        "from keras.applications import MobileNet\n",
        "from keras.applications.vgg16 import VGG16, preprocess_input\n",
        "from keras.optimizers import Adam, SGD, RMSprop\n",
        "\n",
        "import tensorflow as tf\n",
        "\n",
        "import os\n",
        "import numpy as np\n",
        "import pandas as pd\n",
        "import time\n",
        "\n",
        "import random\n",
        "\n",
        "from PIL import Image\n",
        "import glob\n",
        "import matplotlib.pyplot as plt\n",
        "import matplotlib.image as mpimg\n",
        "%matplotlib inline"
      ],
      "execution_count": null,
      "outputs": [
        {
          "output_type": "stream",
          "text": [
            "Using TensorFlow backend.\n"
          ],
          "name": "stderr"
        }
      ]
    },
    {
      "cell_type": "code",
      "metadata": {
        "id": "DQRYACny0ZP9",
        "colab_type": "code",
        "colab": {}
      },
      "source": [
        "DATASET_DIR = \"/content/dataset\"\n",
        "\n",
        "NORMAL_DIR = DATASET_DIR + \"/normal\"\n",
        "PNEUMONIA_DIR = DATASET_DIR + \"/pneumonia\"\n",
        "COVID_DIR = DATASET_DIR + \"/covid\"\n",
        "\n",
        "\n",
        "IMG_W = 224\n",
        "IMG_H = 224\n",
        "IMG_C = 1\n",
        "INPUT_SHAPE = (IMG_W, IMG_H, IMG_C)\n",
        "\n",
        "CLASSES = [ \"NORMAL\", \"PNEUMONIA\", \"COVID\" ]\n",
        "NB_CLASSES = len(CLASSES)\n",
        "\n",
        "EPOCHS = 5\n",
        "BATCH_SIZE = 8"
      ],
      "execution_count": null,
      "outputs": []
    },
    {
      "cell_type": "code",
      "metadata": {
        "id": "CI5yDHHd1UOg",
        "colab_type": "code",
        "colab": {}
      },
      "source": [
        "normal_images = []\n",
        "pneumonia_images = []\n",
        "covid_images = []"
      ],
      "execution_count": null,
      "outputs": []
    },
    {
      "cell_type": "code",
      "metadata": {
        "id": "XbbIa0Sh1bbn",
        "colab_type": "code",
        "colab": {}
      },
      "source": [
        "for img_path in glob.glob(NORMAL_DIR + '/*'):\n",
        "    img = Image.open(img_path).convert('L')\n",
        "    img = img.resize((IMG_H,IMG_H))\n",
        "    img = np.asarray(img)\n",
        "    normal_images.append(img[:np.newaxis])\n",
        "\n",
        "for img_path in glob.glob(PNEUMONIA_DIR + '/*'):\n",
        "    img = Image.open(img_path).convert('L')\n",
        "    img = img.resize((IMG_H,IMG_H))\n",
        "    img = np.asarray(img)\n",
        "    pneumonia_images.append(img[:np.newaxis])\n",
        "\n",
        "for img_path in glob.glob(COVID_DIR + '/*'):\n",
        "    img = Image.open(img_path).convert('L')\n",
        "    img = img.resize((IMG_H,IMG_H))\n",
        "    img = np.asarray(img)\n",
        "    covid_images.append(img[:np.newaxis])"
      ],
      "execution_count": null,
      "outputs": []
    },
    {
      "cell_type": "code",
      "metadata": {
        "id": "5CFf6qT29zZ4",
        "colab_type": "code",
        "colab": {
          "base_uri": "https://localhost:8080/",
          "height": 34
        },
        "outputId": "880c12b0-6563-4b33-ab30-3223ef15449e"
      },
      "source": [
        "len(normal_images), len(pneumonia_images), len(covid_images)"
      ],
      "execution_count": null,
      "outputs": [
        {
          "output_type": "execute_result",
          "data": {
            "text/plain": [
              "(1583, 4273, 201)"
            ]
          },
          "metadata": {
            "tags": []
          },
          "execution_count": 11
        }
      ]
    },
    {
      "cell_type": "code",
      "metadata": {
        "id": "5JBmtQ_75zWn",
        "colab_type": "code",
        "colab": {
          "base_uri": "https://localhost:8080/",
          "height": 168
        },
        "outputId": "dae97b41-a4f5-4d44-cc50-e4453456bd4a"
      },
      "source": [
        "width=150\n",
        "height=150\n",
        "rows = 1\n",
        "cols = 3\n",
        "\n",
        "imgs = [ normal_images[0], pneumonia_images[0], covid_images[0]]\n",
        "\n",
        "axes=[]\n",
        "fig=plt.figure()\n",
        "\n",
        "for i in range(rows*cols):\n",
        "    img = imgs[i]\n",
        "    axes.append( fig.add_subplot(rows, cols, i+1) )\n",
        "    plt.imshow(img)\n",
        "\n",
        "axes[0].set_title('NORMAL')\n",
        "axes[1].set_title('PNEUMONIA')\n",
        "axes[2].set_title('COVID')\n",
        "fig.tight_layout()    \n",
        "plt.show()"
      ],
      "execution_count": null,
      "outputs": [
        {
          "output_type": "display_data",
          "data": {
            "image/png": "[encoded data removed]",
            "text/plain": [
              "<Figure size 432x288 with 3 Axes>"
            ]
          },
          "metadata": {
            "tags": [],
            "needs_background": "light"
          }
        }
      ]
    },
    {
      "cell_type": "code",
      "metadata": {
        "id": "cdR1sAUk8ALJ",
        "colab_type": "code",
        "colab": {}
      },
      "source": [
        "X = []\n",
        "y = []\n",
        "\n",
        "for item in normal_images:\n",
        "    img = np.asarray(item)\n",
        "    img = img.reshape(INPUT_SHAPE)\n",
        "    X.append(img)    \n",
        "    y.append(CLASSES.index(\"NORMAL\"))\n",
        "\n",
        "for item in pneumonia_images:\n",
        "    img = np.asarray(item)\n",
        "    img = img.reshape(INPUT_SHAPE)\n",
        "    X.append(img)    \n",
        "    y.append(CLASSES.index(\"PNEUMONIA\"))\n",
        "\n",
        "for item in covid_images:\n",
        "    img = np.asarray(item)\n",
        "    img = img.reshape(INPUT_SHAPE)\n",
        "    X.append(img)    \n",
        "    y.append(CLASSES.index(\"COVID\"))\n",
        "\n",
        "X = np.asarray(X)\n",
        "y = np.asarray(y)"
      ],
      "execution_count": null,
      "outputs": []
    },
    {
      "cell_type": "code",
      "metadata": {
        "id": "K6hz2Dp7-Reh",
        "colab_type": "code",
        "colab": {
          "base_uri": "https://localhost:8080/",
          "height": 34
        },
        "outputId": "29a30666-c7c8-44e9-e9ff-d2895e670dce"
      },
      "source": [
        "X.shape, y.shape"
      ],
      "execution_count": null,
      "outputs": [
        {
          "output_type": "execute_result",
          "data": {
            "text/plain": [
              "((6057, 224, 224, 1), (6057,))"
            ]
          },
          "metadata": {
            "tags": []
          },
          "execution_count": 14
        }
      ]
    },
    {
      "cell_type": "code",
      "metadata": {
        "id": "jl-wVTmn_P7Q",
        "colab_type": "code",
        "colab": {}
      },
      "source": [
        "from sklearn.model_selection import train_test_split\n",
        "# X_train, X_test, y_train, y_test = train_test_split(\n",
        "#     X, y, test_size=0.2, random_state=2020)\n",
        "\n",
        "\n",
        "X_train, X_test, y_train, y_test = train_test_split(X, y, test_size=0.2, random_state=1)\n",
        "\n",
        "X_train, X_val, y_train, y_val = train_test_split(X_train, y_train, test_size=0.25, random_state=1) # 0.25 x 0.8 = 0.2\n"
      ],
      "execution_count": null,
      "outputs": []
    },
    {
      "cell_type": "code",
      "metadata": {
        "id": "YL3TyCGbVNTK",
        "colab_type": "code",
        "colab": {}
      },
      "source": [
        "X_train = np.repeat(X_train[...,], 3, 3)\n",
        "X_val = np.repeat(X_val[...,], 3, 3)\n",
        "X_test = np.repeat(X_test[...,], 3, 3)"
      ],
      "execution_count": null,
      "outputs": []
    },
    {
      "cell_type": "code",
      "metadata": {
        "id": "3hvIhZFU_X2J",
        "colab_type": "code",
        "colab": {
          "base_uri": "https://localhost:8080/",
          "height": 34
        },
        "outputId": "14d58132-58b9-4142-c8c2-968164b02dae"
      },
      "source": [
        "X_train.shape, y_train.shape"
      ],
      "execution_count": null,
      "outputs": [
        {
          "output_type": "execute_result",
          "data": {
            "text/plain": [
              "((3633, 224, 224, 3), (3633,))"
            ]
          },
          "metadata": {
            "tags": []
          },
          "execution_count": 17
        }
      ]
    },
    {
      "cell_type": "code",
      "metadata": {
        "id": "O-PVKZ9Z_yKh",
        "colab_type": "code",
        "colab": {
          "base_uri": "https://localhost:8080/",
          "height": 34
        },
        "outputId": "2dd72137-d070-476d-ba88-7a2039663630"
      },
      "source": [
        "X_test.shape, y_test.shape"
      ],
      "execution_count": null,
      "outputs": [
        {
          "output_type": "execute_result",
          "data": {
            "text/plain": [
              "((1212, 224, 224, 3), (1212,))"
            ]
          },
          "metadata": {
            "tags": []
          },
          "execution_count": 18
        }
      ]
    },
    {
      "cell_type": "code",
      "metadata": {
        "id": "A297EcLU_3VY",
        "colab_type": "code",
        "colab": {
          "base_uri": "https://localhost:8080/",
          "height": 34
        },
        "outputId": "913cadaa-8126-4030-d2c0-c443fee64075"
      },
      "source": [
        "np.unique(y_train, return_counts=True)"
      ],
      "execution_count": null,
      "outputs": [
        {
          "output_type": "execute_result",
          "data": {
            "text/plain": [
              "(array([0, 1, 2]), array([ 936, 2569,  128]))"
            ]
          },
          "metadata": {
            "tags": []
          },
          "execution_count": 19
        }
      ]
    },
    {
      "cell_type": "code",
      "metadata": {
        "id": "fa37CzIOAbPt",
        "colab_type": "code",
        "colab": {
          "base_uri": "https://localhost:8080/",
          "height": 34
        },
        "outputId": "d3560ed5-6e00-4758-870d-eb7f3a0589ab"
      },
      "source": [
        "np.unique(y_test, return_counts=True)"
      ],
      "execution_count": null,
      "outputs": [
        {
          "output_type": "execute_result",
          "data": {
            "text/plain": [
              "(array([0, 1, 2]), array([309, 862,  41]))"
            ]
          },
          "metadata": {
            "tags": []
          },
          "execution_count": 20
        }
      ]
    },
    {
      "cell_type": "code",
      "metadata": {
        "id": "VoVGLXHtCEFz",
        "colab_type": "code",
        "colab": {}
      },
      "source": [
        "from keras.utils import to_categorical\n",
        "\n",
        "y_train = to_categorical(y_train)\n",
        "y_val = to_categorical(y_val)\n",
        "y_test = to_categorical(y_test)"
      ],
      "execution_count": null,
      "outputs": []
    },
    {
      "cell_type": "code",
      "metadata": {
        "id": "bg13-MOMAjKU",
        "colab_type": "code",
        "colab": {}
      },
      "source": [
        "# model = Sequential()\n",
        "# model.add(Conv2D(32, (3, 3), input_shape=INPUT_SHAPE))\n",
        "# model.add(Activation('relu'))\n",
        "# model.add(MaxPooling2D(pool_size=(2, 2)))\n",
        "\n",
        "# model.add(Conv2D(32, (3, 3)))\n",
        "# model.add(Activation('relu'))\n",
        "# model.add(MaxPooling2D(pool_size=(2, 2)))\n",
        "\n",
        "# model.add(Conv2D(64, (3, 3)))\n",
        "# model.add(Activation('relu'))\n",
        "# model.add(MaxPooling2D(pool_size=(2, 2)))\n",
        "\n",
        "# model.add(Flatten())\n",
        "# model.add(Dense(64))\n",
        "# model.add(Activation('relu'))\n",
        "# model.add(Dropout(0.5))\n",
        "# model.add(Dense(NB_CLASSES))\n",
        "# model.add(Activation('softmax'))"
      ],
      "execution_count": null,
      "outputs": []
    },
    {
      "cell_type": "code",
      "metadata": {
        "id": "FIlZbgjZ-HHk",
        "colab_type": "code",
        "colab": {}
      },
      "source": [
        "# -------------------------------"
      ],
      "execution_count": null,
      "outputs": []
    },
    {
      "cell_type": "code",
      "metadata": {
        "id": "Tsjb3XEyUfeN",
        "colab_type": "code",
        "colab": {
          "base_uri": "https://localhost:8080/",
          "height": 71
        },
        "outputId": "f5ee7de7-fcc1-4075-a04e-fa299f36d658"
      },
      "source": [
        "vgg_model = VGG16(weights='imagenet', \n",
        "                        include_top=False, \n",
        "                        input_shape=(IMG_H, IMG_W, 3))\n",
        "\n",
        "for layer in vgg_model.layers:\n",
        "    if isinstance(layer, BatchNormalization):\n",
        "        layer.trainable = True\n",
        "    else:\n",
        "        layer.trainable = False\n",
        "\n",
        "model = Sequential()\n",
        "model.add(vgg_model)\n",
        "model.add(GlobalAveragePooling2D())\n",
        "\n",
        "model.add(Dense(256, activation='relu'))\n",
        "model.add(Dropout(0.5))\n",
        "model.add(BatchNormalization())\n",
        "# model.add(Dense(NB_CLASSES, activation='softmax'))"
      ],
      "execution_count": null,
      "outputs": [
        {
          "output_type": "stream",
          "text": [
            "Downloading data from https://github.com/fchollet/deep-learning-models/releases/download/v0.1/vgg16_weights_tf_dim_ordering_tf_kernels_notop.h5\n",
            "58892288/58889256 [==============================] - 2s 0us/step\n"
          ],
          "name": "stdout"
        }
      ]
    },
    {
      "cell_type": "code",
      "metadata": {
        "id": "OZylcsh_BMH2",
        "colab_type": "code",
        "colab": {}
      },
      "source": [
        "# model.compile(loss='categorical_crossentropy',\n",
        "#               optimizer='adam',\n",
        "#               metrics=['accuracy'])"
      ],
      "execution_count": null,
      "outputs": []
    },
    {
      "cell_type": "code",
      "metadata": {
        "id": "vAyClEZZBbQI",
        "colab_type": "code",
        "colab": {
          "base_uri": "https://localhost:8080/",
          "height": 323
        },
        "outputId": "b22e23df-ccb0-430e-e595-fa0194bded29"
      },
      "source": [
        "model.summary()"
      ],
      "execution_count": null,
      "outputs": [
        {
          "output_type": "stream",
          "text": [
            "Model: \"sequential_1\"\n",
            "_________________________________________________________________\n",
            "Layer (type)                 Output Shape              Param #   \n",
            "=================================================================\n",
            "vgg16 (Model)                (None, 7, 7, 512)         14714688  \n",
            "_________________________________________________________________\n",
            "global_average_pooling2d_1 ( (None, 512)               0         \n",
            "_________________________________________________________________\n",
            "dense_1 (Dense)              (None, 256)               131328    \n",
            "_________________________________________________________________\n",
            "dropout_1 (Dropout)          (None, 256)               0         \n",
            "_________________________________________________________________\n",
            "batch_normalization_1 (Batch (None, 256)               1024      \n",
            "=================================================================\n",
            "Total params: 14,847,040\n",
            "Trainable params: 131,840\n",
            "Non-trainable params: 14,715,200\n",
            "_________________________________________________________________\n"
          ],
          "name": "stdout"
        }
      ]
    },
    {
      "cell_type": "code",
      "metadata": {
        "id": "O7wAYXu8Bf_X",
        "colab_type": "code",
        "colab": {}
      },
      "source": [
        "# hist = model.fit(X_train, \n",
        "#                  y_train, \n",
        "#                  batch_size=BATCH_SIZE, \n",
        "#                  epochs=3, \n",
        "#                  verbose=1, \n",
        "#                  callbacks=None, \n",
        "#                  validation_data=(X_val, y_val))"
      ],
      "execution_count": null,
      "outputs": []
    },
    {
      "cell_type": "code",
      "metadata": {
        "id": "Go3rJhfT3Z93",
        "colab_type": "code",
        "colab": {}
      },
      "source": [
        "features, labels = model.predict(X_train), y_train"
      ],
      "execution_count": null,
      "outputs": []
    },
    {
      "cell_type": "code",
      "metadata": {
        "id": "Cf7iNri53iiP",
        "colab_type": "code",
        "colab": {}
      },
      "source": [
        "from sklearn.ensemble import RandomForestClassifier\n",
        "rf_clf = RandomForestClassifier(random_state=2020)"
      ],
      "execution_count": null,
      "outputs": []
    },
    {
      "cell_type": "code",
      "metadata": {
        "id": "96gBgLBR5A6R",
        "colab_type": "code",
        "colab": {
          "base_uri": "https://localhost:8080/",
          "height": 68
        },
        "outputId": "a616a20a-3ec0-44db-9eb9-fc6d1e58060a"
      },
      "source": [
        "from sklearn.model_selection import GridSearchCV\n",
        "\n",
        "np.random.seed(2020)\n",
        "start = time.time()\n",
        "\n",
        "param_dist = {'max_depth': [2, 3, 4],\n",
        "              'bootstrap': [True, False],\n",
        "              'max_features': ['auto', 'sqrt', 'log2', None],\n",
        "              'criterion': ['gini', 'entropy']}\n",
        "\n",
        "cv_rf = GridSearchCV(rf_clf, cv = 10,\n",
        "                     param_grid=param_dist, \n",
        "                     n_jobs = 3)\n",
        "\n",
        "cv_rf.fit(features, labels)\n",
        "print('Best Parameters using grid search: \\n', cv_rf.best_params_)\n",
        "end = time.time()\n",
        "print('Time taken in grid search: {0: .2f}'.format(end - start))"
      ],
      "execution_count": null,
      "outputs": [
        {
          "output_type": "stream",
          "text": [
            "Best Parameters using grid search: \n",
            " {'bootstrap': True, 'criterion': 'entropy', 'max_depth': 4, 'max_features': None}\n",
            "Time taken in grid search:  3447.35\n"
          ],
          "name": "stdout"
        }
      ]
    },
    {
      "cell_type": "code",
      "metadata": {
        "id": "DnbLD8SEP1aP",
        "colab_type": "code",
        "colab": {
          "base_uri": "https://localhost:8080/",
          "height": 153
        },
        "outputId": "6a55417c-33c5-4246-82c6-fbd4c40596cc"
      },
      "source": [
        "# Set best parameters given by grid search \n",
        "rf_clf.set_params(bootstrap=True, criterion='entropy', max_depth=4, max_features=None)"
      ],
      "execution_count": null,
      "outputs": [
        {
          "output_type": "execute_result",
          "data": {
            "text/plain": [
              "RandomForestClassifier(bootstrap=True, ccp_alpha=0.0, class_weight=None,\n",
              "                       criterion='entropy', max_depth=4, max_features=None,\n",
              "                       max_leaf_nodes=None, max_samples=None,\n",
              "                       min_impurity_decrease=0.0, min_impurity_split=None,\n",
              "                       min_samples_leaf=1, min_samples_split=2,\n",
              "                       min_weight_fraction_leaf=0.0, n_estimators=100,\n",
              "                       n_jobs=None, oob_score=False, random_state=None,\n",
              "                       verbose=0, warm_start=False)"
            ]
          },
          "metadata": {
            "tags": []
          },
          "execution_count": 34
        }
      ]
    },
    {
      "cell_type": "code",
      "metadata": {
        "id": "mOvcqfCcgO-6",
        "colab_type": "code",
        "colab": {
          "base_uri": "https://localhost:8080/",
          "height": 153
        },
        "outputId": "ae6d8267-b793-4b7f-b1cd-9886dbf72483"
      },
      "source": [
        "rf_clf.fit(features, labels)"
      ],
      "execution_count": null,
      "outputs": [
        {
          "output_type": "execute_result",
          "data": {
            "text/plain": [
              "RandomForestClassifier(bootstrap=True, ccp_alpha=0.0, class_weight=None,\n",
              "                       criterion='entropy', max_depth=4, max_features=None,\n",
              "                       max_leaf_nodes=None, max_samples=None,\n",
              "                       min_impurity_decrease=0.0, min_impurity_split=None,\n",
              "                       min_samples_leaf=1, min_samples_split=2,\n",
              "                       min_weight_fraction_leaf=0.0, n_estimators=100,\n",
              "                       n_jobs=None, oob_score=False, random_state=None,\n",
              "                       verbose=0, warm_start=False)"
            ]
          },
          "metadata": {
            "tags": []
          },
          "execution_count": 41
        }
      ]
    },
    {
      "cell_type": "code",
      "metadata": {
        "id": "--iabGCldfKY",
        "colab_type": "code",
        "colab": {}
      },
      "source": [
        "test_features, test_labels = model.predict(X_test), y_test"
      ],
      "execution_count": null,
      "outputs": []
    },
    {
      "cell_type": "code",
      "metadata": {
        "id": "uq7B7GEZVCTo",
        "colab_type": "code",
        "colab": {}
      },
      "source": [
        "predictions_rf = rf_clf.predict(test_features)"
      ],
      "execution_count": null,
      "outputs": []
    },
    {
      "cell_type": "code",
      "metadata": {
        "id": "BsmskvM8xgT8",
        "colab_type": "code",
        "colab": {}
      },
      "source": [
        "accuracy_rf = rf_clf.score(test_features, test_labels)"
      ],
      "execution_count": null,
      "outputs": []
    },
    {
      "cell_type": "code",
      "metadata": {
        "id": "YO1Vnt7xxwdS",
        "colab_type": "code",
        "colab": {
          "base_uri": "https://localhost:8080/",
          "height": 34
        },
        "outputId": "cb288f9e-b2da-48a1-e826-863761e2aa1a"
      },
      "source": [
        "print(\"accuracy : \", accuracy_rf)"
      ],
      "execution_count": null,
      "outputs": [
        {
          "output_type": "stream",
          "text": [
            "accuracy :  0.8910891089108911\n"
          ],
          "name": "stdout"
        }
      ]
    },
    {
      "cell_type": "code",
      "metadata": {
        "id": "c_XsHrPlCYm5",
        "colab_type": "code",
        "colab": {}
      },
      "source": [
        "# model.evaluate(X_test, y_test)"
      ],
      "execution_count": null,
      "outputs": []
    },
    {
      "cell_type": "code",
      "metadata": {
        "id": "a9fPNAnfCbMJ",
        "colab_type": "code",
        "colab": {}
      },
      "source": [
        "import matplotlib.pyplot as plt\n",
        "from sklearn.metrics import confusion_matrix\n",
        "import itertools\n",
        "\n",
        "# # Plot training & validation accuracy values\n",
        "# plt.plot(hist.history['accuracy'])\n",
        "# plt.plot(hist.history['val_accuracy'])\n",
        "# plt.title('Model accuracy')\n",
        "# plt.ylabel('Accuracy') \n",
        "# plt.xlabel('Epoch')\n",
        "# plt.legend(['Train', 'Test'], loc='upper left')\n",
        "# plt.show()\n",
        "\n",
        "# # Plot training & validation loss values\n",
        "# plt.plot(hist.history['loss'])\n",
        "# plt.plot(hist.history['val_loss'])\n",
        "# plt.title('Model loss')\n",
        "# plt.ylabel('Loss')\n",
        "# plt.xlabel('Epoch')\n",
        "# plt.legend(['Train', 'Test'], loc='upper left')\n",
        "# plt.show()"
      ],
      "execution_count": null,
      "outputs": []
    },
    {
      "cell_type": "code",
      "metadata": {
        "id": "yfFpzQnU7Po-",
        "colab_type": "code",
        "colab": {}
      },
      "source": [
        "# Confusion matrix\n",
        "# Credit: http://scikit-learn.org/stable/auto_examples/model_selection/plot_confusion_matrix.html\n",
        "from sklearn.metrics import confusion_matrix\n",
        "import itertools\n",
        "\n",
        "def plot_confusion_matrix(cm, classes,\n",
        "                          normalize=False,\n",
        "                          title='Confusion matrix',\n",
        "                          cmap=plt.cm.Blues):\n",
        "  \n",
        "    plt.imshow(cm, interpolation='nearest', cmap=cmap)\n",
        "    plt.title(title)\n",
        "    plt.colorbar()\n",
        "    tick_marks = np.arange(len(classes))\n",
        "    plt.xticks(tick_marks, classes, rotation=45)\n",
        "    plt.yticks(tick_marks, classes)\n",
        "\n",
        "    if normalize:\n",
        "        cm = cm.astype('float') / cm.sum(axis=1)[:, np.newaxis]\n",
        "        cm = np.round(cm, 2)\n",
        "\n",
        "    thresh = np.max(cm) // 2\n",
        "    for i, j in itertools.product(range(cm.shape[0]), range(cm.shape[1])):\n",
        "        plt.text(j, i, cm[i, j],\n",
        "                 horizontalalignment=\"center\",\n",
        "                 color=\"white\" if cm[i, j] > thresh else \"black\")\n",
        "\n",
        "    plt.tight_layout()\n",
        "    plt.ylabel('True label')\n",
        "    plt.xlabel('Predicted label')\n"
      ],
      "execution_count": null,
      "outputs": []
    },
    {
      "cell_type": "code",
      "metadata": {
        "id": "aeI3YDq1GZVe",
        "colab_type": "code",
        "colab": {}
      },
      "source": [
        "# Y_pred = model.predict(X_test)\n",
        "# Y_pred_classes = np.argmax(Y_pred,axis = 1) \n",
        "# Y_true = np.argmax(y_test,axis = 1) \n",
        "# confusion_mtx = confusion_matrix(Y_true, Y_pred_classes) "
      ],
      "execution_count": null,
      "outputs": []
    },
    {
      "cell_type": "code",
      "metadata": {
        "id": "ZS4jd0_9vzu9",
        "colab_type": "code",
        "colab": {}
      },
      "source": [
        "Y_pred = predictions_rf\n",
        "Y_pred_classes = np.argmax(Y_pred,axis = 1) \n",
        "Y_true = np.argmax(test_labels,axis = 1) \n",
        "confusion_mtx = confusion_matrix(Y_true, Y_pred_classes) "
      ],
      "execution_count": null,
      "outputs": []
    },
    {
      "cell_type": "code",
      "metadata": {
        "id": "cgNMUVgVJ3Sd",
        "colab_type": "code",
        "colab": {
          "base_uri": "https://localhost:8080/",
          "height": 311
        },
        "outputId": "c32c66ee-02f5-4654-f192-701353e200ef"
      },
      "source": [
        "plot_confusion_matrix(confusion_mtx, classes = CLASSES)"
      ],
      "execution_count": null,
      "outputs": [
        {
          "output_type": "display_data",
          "data": {
            "image/png": "[encoded data removed]",
            "text/plain": [
              "<Figure size 432x288 with 2 Axes>"
            ]
          },
          "metadata": {
            "tags": [],
            "needs_background": "light"
          }
        }
      ]
    },
    {
      "cell_type": "code",
      "metadata": {
        "id": "SllFhcmRE8Yj",
        "colab_type": "code",
        "colab": {
          "base_uri": "https://localhost:8080/",
          "height": 660
        },
        "outputId": "79a5e8a9-540d-4686-b02a-931a480756cd"
      },
      "source": [
        "from sklearn.metrics import confusion_matrix\n",
        "import seaborn as sns\n",
        "\n",
        "# plot_confusion_matrix(confusion_mtx, classes = CLASSES, normalize=True)\n",
        "conf_mat = confusion_matrix(Y_true, Y_pred_classes)\n",
        "# Normalise\n",
        "conf_mat_norm = conf_mat.astype('float') / conf_mat.sum(axis=1)[:, np.newaxis]\n",
        "fig, ax = plt.subplots(figsize=(10,10))\n",
        "sns.heatmap(conf_mat_norm, annot=True, cmap=plt.cm.Blues, fmt='.2f', xticklabels=CLASSES, yticklabels=CLASSES)\n",
        "plt.ylabel('Actual')\n",
        "plt.xlabel('Predicted')\n",
        "plt.show(block=False)\n"
      ],
      "execution_count": null,
      "outputs": [
        {
          "output_type": "stream",
          "text": [
            "/usr/local/lib/python3.6/dist-packages/statsmodels/tools/_testing.py:19: FutureWarning: pandas.util.testing is deprecated. Use the functions in the public API at pandas.testing instead.\n",
            "  import pandas.util.testing as tm\n"
          ],
          "name": "stderr"
        },
        {
          "output_type": "display_data",
          "data": {
            "image/png": "[encoded data removed]",
            "text/plain": [
              "<Figure size 720x720 with 2 Axes>"
            ]
          },
          "metadata": {
            "tags": [],
            "needs_background": "light"
          }
        }
      ]
    },
    {
      "cell_type": "code",
      "metadata": {
        "id": "XrIy340M8UmH",
        "colab_type": "code",
        "colab": {}
      },
      "source": [
        "model.save_weights('Covid19_Detection_pretrained_VGG_rf_Epochs.h5')"
      ],
      "execution_count": null,
      "outputs": []
    },
    {
      "cell_type": "code",
      "metadata": {
        "id": "YGzYTOPq8g72",
        "colab_type": "code",
        "colab": {
          "base_uri": "https://localhost:8080/",
          "height": 577
        },
        "outputId": "a68fc405-7ee5-43fa-85ef-66920c74761d"
      },
      "source": [
        "from keras.utils import plot_model\n",
        "plot_model(model, show_shapes=True, to_file='Covid19_Detection_pretrained_VGG_rf_Epochs.png')"
      ],
      "execution_count": null,
      "outputs": [
        {
          "output_type": "execute_result",
          "data": {
            "image/png": "[encoded data removed]",
            "text/plain": [
              "<IPython.core.display.Image object>"
            ]
          },
          "metadata": {
            "tags": []
          },
          "execution_count": 64
        }
      ]
    }
  ]
}